{
 "cells": [
  {
   "cell_type": "code",
   "execution_count": 7,
   "id": "8b171d6b",
   "metadata": {},
   "outputs": [
    {
     "name": "stdout",
     "output_type": "stream",
     "text": [
      "✅ Proje ana dizini (c:\\Users\\iamem\\OneDrive\\Desktop\\AI-Proje\\Prototype2) Python'un arama yoluna eklendi.\n",
      "✅ src/data_utils.py modülü başarıyla import edildi.\n",
      "✅ Dataset ve DataLoader modül kullanılarak başarıyla oluşturuldu.\n",
      "\n",
      "✅ Test Başarılı! Bir batch veri başarıyla çekildi.\n",
      "   Görüntü şekli: torch.Size([16, 1, 256, 256])\n",
      "   Etiket şekli:  torch.Size([16])\n"
     ]
    }
   ],
   "source": [
    "# 03_model_training_setup.ipynb\n",
    "\n",
    "import os\n",
    "import sys\n",
    "import pandas as pd\n",
    "import torch\n",
    "from torch.utils.data import DataLoader\n",
    "import matplotlib.pyplot as plt\n",
    "import torchvision.transforms as transforms\n",
    "\n",
    "# --- Proje ana dizinini Python'a tanıtma ---\n",
    "PROJE_ANA_DIZINI = os.path.abspath(os.path.join(os.getcwd(), os.pardir))\n",
    "if PROJE_ANA_DIZINI not in sys.path:\n",
    "    sys.path.append(PROJE_ANA_DIZINI)\n",
    "print(f\"✅ Proje ana dizini ({PROJE_ANA_DIZINI}) Python'un arama yoluna eklendi.\")\n",
    "\n",
    "# Bu import artık sorunsuz çalışıyor\n",
    "from src.data_utils import HeadCTDataset, collate_fn_skip_corrupted\n",
    "print(\"✅ src/data_utils.py modülü başarıyla import edildi.\")\n",
    "\n",
    "# --- Ayarlar ---\n",
    "# DÜZELTME: Çalışma dizini 'notebooks' olduğu için bir üst dizine çıkmamız gerekiyor.\n",
    "MASTER_CSV_PATH = '../Data/processed/master_image_list.csv' \n",
    "IMAGE_SIZE = 256\n",
    "BATCH_SIZE = 16\n",
    "\n",
    "# --- Veri Yükleme ve Hazırlama ---\n",
    "try:\n",
    "    df_master = pd.read_csv(MASTER_CSV_PATH)\n",
    "\n",
    "    data_transforms = transforms.Compose([\n",
    "        transforms.ToPILImage(),\n",
    "        transforms.Resize((IMAGE_SIZE, IMAGE_SIZE)),\n",
    "        transforms.ToTensor(),\n",
    "        transforms.Normalize(mean=[0.5], std=[0.5])\n",
    "    ])\n",
    "\n",
    "    dataset = HeadCTDataset(dataframe=df_master.head(2000), transform=data_transforms)\n",
    "\n",
    "    dataloader = DataLoader(\n",
    "        dataset, \n",
    "        batch_size=BATCH_SIZE, \n",
    "        shuffle=True, \n",
    "        collate_fn=collate_fn_skip_corrupted\n",
    "    )\n",
    "    print(\"✅ Dataset ve DataLoader modül kullanılarak başarıyla oluşturuldu.\")\n",
    "\n",
    "    # --- Test ---\n",
    "    images, labels = next(iter(dataloader))\n",
    "    \n",
    "    if images.nelement() == 0:\n",
    "         print(\"⚠️ DataLoader boş bir batch döndürdü.\")\n",
    "    else:\n",
    "        print(f\"\\n✅ Test Başarılı! Bir batch veri başarıyla çekildi.\")\n",
    "        print(f\"   Görüntü şekli: {images.shape}\")\n",
    "        print(f\"   Etiket şekli:  {labels.shape}\")\n",
    "\n",
    "except FileNotFoundError:\n",
    "    print(f\"❌ HATA: '{MASTER_CSV_PATH}' yolu bulunamadı. Lütfen dosya yapınızı kontrol edin.\")\n",
    "except Exception as e:\n",
    "    print(f\"❌ DataLoader testi sırasında hata: {e}\")"
   ]
  },
  {
   "cell_type": "code",
   "execution_count": 8,
   "id": "d98a8871",
   "metadata": {},
   "outputs": [
    {
     "name": "stdout",
     "output_type": "stream",
     "text": [
      "Kullanılacak cihaz: cpu\n",
      "\n",
      "✅ ResNet18 Model Testi Başarılı!\n",
      "Modelin çıktı şekli: torch.Size([16, 2])\n",
      "\n",
      "Örnek Çıktı (Logits) -> [Kanamasız Skoru, Kanamalı Skoru]:\n",
      "[-0.42095518  0.19924936]\n"
     ]
    }
   ],
   "source": [
    "# 03_model_training_setup.ipynb notebook'unda YENİ BİR HÜCRE\n",
    "\n",
    "# 1. Yeni model fonksiyonumuzu .py dosyasından import edelim\n",
    "from src.model import get_model\n",
    "\n",
    "# 2. Cihazı ayarlayalım (GPU varsa CUDA, yoksa CPU)\n",
    "device = torch.device(\"cuda\" if torch.cuda.is_available() else \"cpu\")\n",
    "print(f\"Kullanılacak cihaz: {device}\")\n",
    "\n",
    "# 3. Modeli oluşturalım ve cihaza taşıyalım\n",
    "try:\n",
    "    # get_model() fonksiyonunu çağırarak ResNet18 modelini alıyoruz\n",
    "    model = get_model(pretrained=True, num_classes=2).to(device)\n",
    "\n",
    "    # DataLoader'dan daha önce aldığımız bir grup görüntüyü de cihaza gönderelim\n",
    "    # Bu değişkenlerin bir önceki hücrede oluşturulmuş olması gerekir.\n",
    "    images = images.to(device)\n",
    "    \n",
    "    # 4. Modelden bir tahmin almayı deneyelim (ileri besleme - forward pass)\n",
    "    with torch.no_grad(): # Gradyan hesaplamasını kapatarak bu testi hızlandırırız\n",
    "        outputs = model(images)\n",
    "\n",
    "    print(\"\\n✅ ResNet18 Model Testi Başarılı!\")\n",
    "    print(f\"Modelin çıktı şekli: {outputs.shape}\") # Beklenen: torch.Size([16, 2])\n",
    "    print(\"\\nÖrnek Çıktı (Logits) -> [Kanamasız Skoru, Kanamalı Skoru]:\")\n",
    "    # Çıktıyı CPU'ya geri alıp numpy array'ine çevirerek daha okunaklı yazdırıyoruz\n",
    "    print(outputs[0].cpu().numpy()) \n",
    "\n",
    "except NameError:\n",
    "    print(\"❌ HATA: 'images' değişkeni bulunamadı. Lütfen bu hücreden önceki DataLoader test hücresini çalıştırdığınızdan emin olun.\")\n",
    "except Exception as e:\n",
    "    print(f\"❌ Model testi sırasında bir hata oluştu: {e}\")"
   ]
  },
  {
   "cell_type": "code",
   "execution_count": 9,
   "id": "6cef6461",
   "metadata": {},
   "outputs": [
    {
     "name": "stdout",
     "output_type": "stream",
     "text": [
      "✅ Proje ana dizini (c:\\Users\\iamem\\OneDrive\\Desktop\\AI-Proje\\Prototype2) Python'un arama yoluna eklendi.\n",
      "✅ src modülleri başarıyla import edildi.\n",
      "Kullanılacak cihaz: cpu\n",
      "✅ Model, Optimizer ve Kayıp Fonksiyonu hazır.\n",
      "\n",
      "--- Eğitim Başlatılıyor (1 Epoch, Optimizer: AdamW) ---\n"
     ]
    },
    {
     "data": {
      "application/vnd.jupyter.widget-view+json": {
       "model_id": "75141b797ee14be4b706dbbc75537e00",
       "version_major": 2,
       "version_minor": 0
      },
      "text/plain": [
       "Eğitim Adımları:   0%|          | 0/125 [00:00<?, ?it/s]"
      ]
     },
     "metadata": {},
     "output_type": "display_data"
    },
    {
     "name": "stdout",
     "output_type": "stream",
     "text": [
      "\n",
      "✅ Eğitim tamamlandı!\n",
      "Ortalama Kayıp (Average Loss): 0.0803\n"
     ]
    }
   ],
   "source": [
    "# 03_model_training_setup.ipynb notebook'unda TEK BİR HÜCRE\n",
    "\n",
    "import os\n",
    "import sys\n",
    "import torch\n",
    "import torch.nn as nn\n",
    "from tqdm.notebook import tqdm\n",
    "\n",
    "# --- 1. Proje Yolunu Python'a Tanıtma ---\n",
    "# Bu blok, 'src' klasörünü bulabilmemiz için her zaman en başta olmalı.\n",
    "PROJE_ANA_DIZINI = os.path.abspath(os.path.join(os.getcwd(), os.pardir))\n",
    "if PROJE_ANA_DIZINI not in sys.path:\n",
    "    sys.path.append(PROJE_ANA_DIZINI)\n",
    "print(f\"✅ Proje ana dizini ({PROJE_ANA_DIZINI}) Python'un arama yoluna eklendi.\")\n",
    "\n",
    "# --- 2. Gerekli Modülleri Import Etme ---\n",
    "# Artık bu importlar sorunsuz çalışacak.\n",
    "from src.model import get_model\n",
    "# DataLoader'ı bir önceki hücrede oluşturduğumuzu varsayıyoruz. \n",
    "# Eğer notebook'u yeniden başlattıysanız, DataLoader'ı oluşturan hücreyi tekrar çalıştırmalısınız.\n",
    "print(\"✅ src modülleri başarıyla import edildi.\")\n",
    "\n",
    "\n",
    "# --- 3. Model, Optimizer ve Kayıp Fonksiyonunu Kurma ---\n",
    "device = torch.device(\"cuda\" if torch.cuda.is_available() else \"cpu\")\n",
    "print(f\"Kullanılacak cihaz: {device}\")\n",
    "\n",
    "# Modeli al ve cihaza gönder\n",
    "model = get_model(pretrained=True, num_classes=2).to(device)\n",
    "\n",
    "# Kayıp Fonksiyonu\n",
    "loss_function = nn.CrossEntropyLoss()\n",
    "\n",
    "# Optimizasyon Algoritması (AdamW)\n",
    "optimizer = torch.optim.AdamW(model.parameters(), lr=0.001)\n",
    "\n",
    "print(\"✅ Model, Optimizer ve Kayıp Fonksiyonu hazır.\")\n",
    "\n",
    "\n",
    "# --- 4. Tek Epoch'luk Eğitim Döngüsü ---\n",
    "# 'dataloader' değişkeninin bir önceki hücrede tanımlandığından emin olun!\n",
    "try:\n",
    "    if 'dataloader' not in locals():\n",
    "        raise NameError(\"'dataloader' değişkeni bulunamadı. Lütfen önceki hücreyi çalıştırın.\")\n",
    "\n",
    "    model.train() # Modeli eğitim moduna al\n",
    "    total_loss = 0.0\n",
    "    processed_batches = 0\n",
    "\n",
    "    print(\"\\n--- Eğitim Başlatılıyor (1 Epoch, Optimizer: AdamW) ---\")\n",
    "\n",
    "    for images, labels in tqdm(dataloader, desc=\"Eğitim Adımları\"):\n",
    "        images, labels = images.to(device), labels.to(device)\n",
    "        \n",
    "        optimizer.zero_grad()\n",
    "        outputs = model(images)\n",
    "        loss = loss_function(outputs, labels)\n",
    "        loss.backward()\n",
    "        optimizer.step()\n",
    "        \n",
    "        total_loss += loss.item()\n",
    "        processed_batches += 1\n",
    "\n",
    "    avg_loss = total_loss / processed_batches\n",
    "    print(f\"\\n✅ Eğitim tamamlandı!\")\n",
    "    print(f\"Ortalama Kayıp (Average Loss): {avg_loss:.4f}\")\n",
    "\n",
    "except Exception as e:\n",
    "    print(f\"❌ Eğitim sırasında bir hata oluştu: {e}\")"
   ]
  }
 ],
 "metadata": {
  "kernelspec": {
   "display_name": "proje",
   "language": "python",
   "name": "python3"
  },
  "language_info": {
   "codemirror_mode": {
    "name": "ipython",
    "version": 3
   },
   "file_extension": ".py",
   "mimetype": "text/x-python",
   "name": "python",
   "nbconvert_exporter": "python",
   "pygments_lexer": "ipython3",
   "version": "3.10.18"
  }
 },
 "nbformat": 4,
 "nbformat_minor": 5
}
